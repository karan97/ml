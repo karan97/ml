{
 "cells": [
  {
   "cell_type": "code",
   "execution_count": 1,
   "metadata": {},
   "outputs": [],
   "source": [
    "import numpy as np\n",
    "import scipy.stats as stats\n",
    "import seaborn as sns\n",
    "import matplotlib.pyplot as plt\n",
    "%matplotlib inline\n",
    "from scipy.io import arff\n",
    "import pandas as pd\n",
    "import seaborn as sns\n",
    "import warnings\n",
    "from warnings import simplefilter\n",
    "simplefilter(action='ignore', category=FutureWarning)"
   ]
  },
  {
   "cell_type": "code",
   "execution_count": 2,
   "metadata": {},
   "outputs": [],
   "source": [
    "data = arff.loadarff(r'C:\\Users\\gupta\\Desktop\\datas\\Autism-Adolescent-Data.arff')\n",
    "df = pd.DataFrame(data[0])"
   ]
  },
  {
   "cell_type": "code",
   "execution_count": 3,
   "metadata": {},
   "outputs": [
    {
     "data": {
      "text/html": [
       "<div>\n",
       "<style scoped>\n",
       "    .dataframe tbody tr th:only-of-type {\n",
       "        vertical-align: middle;\n",
       "    }\n",
       "\n",
       "    .dataframe tbody tr th {\n",
       "        vertical-align: top;\n",
       "    }\n",
       "\n",
       "    .dataframe thead th {\n",
       "        text-align: right;\n",
       "    }\n",
       "</style>\n",
       "<table border=\"1\" class=\"dataframe\">\n",
       "  <thead>\n",
       "    <tr style=\"text-align: right;\">\n",
       "      <th></th>\n",
       "      <th>A1_Score</th>\n",
       "      <th>A2_Score</th>\n",
       "      <th>A3_Score</th>\n",
       "      <th>A4_Score</th>\n",
       "      <th>A5_Score</th>\n",
       "      <th>A6_Score</th>\n",
       "      <th>A7_Score</th>\n",
       "      <th>A8_Score</th>\n",
       "      <th>A9_Score</th>\n",
       "      <th>A10_Score</th>\n",
       "      <th>...</th>\n",
       "      <th>gender</th>\n",
       "      <th>ethnicity</th>\n",
       "      <th>jundice</th>\n",
       "      <th>austim</th>\n",
       "      <th>contry_of_res</th>\n",
       "      <th>used_app_before</th>\n",
       "      <th>result</th>\n",
       "      <th>age_desc</th>\n",
       "      <th>relation</th>\n",
       "      <th>Class/ASD</th>\n",
       "    </tr>\n",
       "  </thead>\n",
       "  <tbody>\n",
       "    <tr>\n",
       "      <td>0</td>\n",
       "      <td>b'0'</td>\n",
       "      <td>b'0'</td>\n",
       "      <td>b'0'</td>\n",
       "      <td>b'1'</td>\n",
       "      <td>b'1'</td>\n",
       "      <td>b'1'</td>\n",
       "      <td>b'1'</td>\n",
       "      <td>b'1'</td>\n",
       "      <td>b'1'</td>\n",
       "      <td>b'0'</td>\n",
       "      <td>...</td>\n",
       "      <td>b'm'</td>\n",
       "      <td>b'Hispanic'</td>\n",
       "      <td>b'yes'</td>\n",
       "      <td>b'yes'</td>\n",
       "      <td>b'Austria'</td>\n",
       "      <td>b'no'</td>\n",
       "      <td>6.0</td>\n",
       "      <td>b'12-16 years'</td>\n",
       "      <td>b'Parent'</td>\n",
       "      <td>b'NO'</td>\n",
       "    </tr>\n",
       "    <tr>\n",
       "      <td>1</td>\n",
       "      <td>b'0'</td>\n",
       "      <td>b'0'</td>\n",
       "      <td>b'0'</td>\n",
       "      <td>b'0'</td>\n",
       "      <td>b'0'</td>\n",
       "      <td>b'0'</td>\n",
       "      <td>b'0'</td>\n",
       "      <td>b'0'</td>\n",
       "      <td>b'1'</td>\n",
       "      <td>b'1'</td>\n",
       "      <td>...</td>\n",
       "      <td>b'm'</td>\n",
       "      <td>b'Black'</td>\n",
       "      <td>b'no'</td>\n",
       "      <td>b'no'</td>\n",
       "      <td>b'Austria'</td>\n",
       "      <td>b'no'</td>\n",
       "      <td>2.0</td>\n",
       "      <td>b'12-16 years'</td>\n",
       "      <td>b'Relative'</td>\n",
       "      <td>b'NO'</td>\n",
       "    </tr>\n",
       "    <tr>\n",
       "      <td>2</td>\n",
       "      <td>b'0'</td>\n",
       "      <td>b'0'</td>\n",
       "      <td>b'0'</td>\n",
       "      <td>b'0'</td>\n",
       "      <td>b'0'</td>\n",
       "      <td>b'0'</td>\n",
       "      <td>b'0'</td>\n",
       "      <td>b'0'</td>\n",
       "      <td>b'1'</td>\n",
       "      <td>b'1'</td>\n",
       "      <td>...</td>\n",
       "      <td>b'f'</td>\n",
       "      <td>b'?'</td>\n",
       "      <td>b'no'</td>\n",
       "      <td>b'no'</td>\n",
       "      <td>b'AmericanSamoa'</td>\n",
       "      <td>b'no'</td>\n",
       "      <td>2.0</td>\n",
       "      <td>b'12-16 years'</td>\n",
       "      <td>b'?'</td>\n",
       "      <td>b'NO'</td>\n",
       "    </tr>\n",
       "    <tr>\n",
       "      <td>3</td>\n",
       "      <td>b'0'</td>\n",
       "      <td>b'1'</td>\n",
       "      <td>b'1'</td>\n",
       "      <td>b'1'</td>\n",
       "      <td>b'1'</td>\n",
       "      <td>b'1'</td>\n",
       "      <td>b'0'</td>\n",
       "      <td>b'1'</td>\n",
       "      <td>b'1'</td>\n",
       "      <td>b'0'</td>\n",
       "      <td>...</td>\n",
       "      <td>b'f'</td>\n",
       "      <td>b'White-European'</td>\n",
       "      <td>b'no'</td>\n",
       "      <td>b'no'</td>\n",
       "      <td>b'United Kingdom'</td>\n",
       "      <td>b'no'</td>\n",
       "      <td>7.0</td>\n",
       "      <td>b'12-16 years'</td>\n",
       "      <td>b'Self'</td>\n",
       "      <td>b'YES'</td>\n",
       "    </tr>\n",
       "    <tr>\n",
       "      <td>4</td>\n",
       "      <td>b'1'</td>\n",
       "      <td>b'1'</td>\n",
       "      <td>b'1'</td>\n",
       "      <td>b'1'</td>\n",
       "      <td>b'1'</td>\n",
       "      <td>b'1'</td>\n",
       "      <td>b'1'</td>\n",
       "      <td>b'0'</td>\n",
       "      <td>b'0'</td>\n",
       "      <td>b'0'</td>\n",
       "      <td>...</td>\n",
       "      <td>b'f'</td>\n",
       "      <td>b'?'</td>\n",
       "      <td>b'no'</td>\n",
       "      <td>b'no'</td>\n",
       "      <td>b'Albania'</td>\n",
       "      <td>b'no'</td>\n",
       "      <td>7.0</td>\n",
       "      <td>b'12-16 years'</td>\n",
       "      <td>b'?'</td>\n",
       "      <td>b'YES'</td>\n",
       "    </tr>\n",
       "  </tbody>\n",
       "</table>\n",
       "<p>5 rows × 21 columns</p>\n",
       "</div>"
      ],
      "text/plain": [
       "  A1_Score A2_Score A3_Score A4_Score A5_Score A6_Score A7_Score A8_Score  \\\n",
       "0     b'0'     b'0'     b'0'     b'1'     b'1'     b'1'     b'1'     b'1'   \n",
       "1     b'0'     b'0'     b'0'     b'0'     b'0'     b'0'     b'0'     b'0'   \n",
       "2     b'0'     b'0'     b'0'     b'0'     b'0'     b'0'     b'0'     b'0'   \n",
       "3     b'0'     b'1'     b'1'     b'1'     b'1'     b'1'     b'0'     b'1'   \n",
       "4     b'1'     b'1'     b'1'     b'1'     b'1'     b'1'     b'1'     b'0'   \n",
       "\n",
       "  A9_Score A10_Score  ...  gender          ethnicity jundice  austim  \\\n",
       "0     b'1'      b'0'  ...    b'm'        b'Hispanic'  b'yes'  b'yes'   \n",
       "1     b'1'      b'1'  ...    b'm'           b'Black'   b'no'   b'no'   \n",
       "2     b'1'      b'1'  ...    b'f'               b'?'   b'no'   b'no'   \n",
       "3     b'1'      b'0'  ...    b'f'  b'White-European'   b'no'   b'no'   \n",
       "4     b'0'      b'0'  ...    b'f'               b'?'   b'no'   b'no'   \n",
       "\n",
       "       contry_of_res used_app_before result        age_desc     relation  \\\n",
       "0         b'Austria'           b'no'    6.0  b'12-16 years'    b'Parent'   \n",
       "1         b'Austria'           b'no'    2.0  b'12-16 years'  b'Relative'   \n",
       "2   b'AmericanSamoa'           b'no'    2.0  b'12-16 years'         b'?'   \n",
       "3  b'United Kingdom'           b'no'    7.0  b'12-16 years'      b'Self'   \n",
       "4         b'Albania'           b'no'    7.0  b'12-16 years'         b'?'   \n",
       "\n",
       "  Class/ASD  \n",
       "0     b'NO'  \n",
       "1     b'NO'  \n",
       "2     b'NO'  \n",
       "3    b'YES'  \n",
       "4    b'YES'  \n",
       "\n",
       "[5 rows x 21 columns]"
      ]
     },
     "execution_count": 3,
     "metadata": {},
     "output_type": "execute_result"
    }
   ],
   "source": [
    "df.head()"
   ]
  },
  {
   "cell_type": "code",
   "execution_count": 4,
   "metadata": {},
   "outputs": [
    {
     "data": {
      "text/html": [
       "<div>\n",
       "<style scoped>\n",
       "    .dataframe tbody tr th:only-of-type {\n",
       "        vertical-align: middle;\n",
       "    }\n",
       "\n",
       "    .dataframe tbody tr th {\n",
       "        vertical-align: top;\n",
       "    }\n",
       "\n",
       "    .dataframe thead th {\n",
       "        text-align: right;\n",
       "    }\n",
       "</style>\n",
       "<table border=\"1\" class=\"dataframe\">\n",
       "  <thead>\n",
       "    <tr style=\"text-align: right;\">\n",
       "      <th></th>\n",
       "      <th>A1_Score</th>\n",
       "      <th>A2_Score</th>\n",
       "      <th>A3_Score</th>\n",
       "      <th>A4_Score</th>\n",
       "      <th>A5_Score</th>\n",
       "      <th>A6_Score</th>\n",
       "      <th>A7_Score</th>\n",
       "      <th>A8_Score</th>\n",
       "      <th>A9_Score</th>\n",
       "      <th>A10_Score</th>\n",
       "      <th>...</th>\n",
       "      <th>gender</th>\n",
       "      <th>ethnicity</th>\n",
       "      <th>jundice</th>\n",
       "      <th>austim</th>\n",
       "      <th>contry_of_res</th>\n",
       "      <th>used_app_before</th>\n",
       "      <th>result</th>\n",
       "      <th>age_desc</th>\n",
       "      <th>relation</th>\n",
       "      <th>Class/ASD</th>\n",
       "    </tr>\n",
       "  </thead>\n",
       "  <tbody>\n",
       "    <tr>\n",
       "      <td>0</td>\n",
       "      <td>0</td>\n",
       "      <td>0</td>\n",
       "      <td>0</td>\n",
       "      <td>1</td>\n",
       "      <td>1</td>\n",
       "      <td>1</td>\n",
       "      <td>1</td>\n",
       "      <td>1</td>\n",
       "      <td>1</td>\n",
       "      <td>0</td>\n",
       "      <td>...</td>\n",
       "      <td>1</td>\n",
       "      <td>b'Hispanic'</td>\n",
       "      <td>1</td>\n",
       "      <td>1</td>\n",
       "      <td>b'Austria'</td>\n",
       "      <td>0</td>\n",
       "      <td>6.0</td>\n",
       "      <td>b'12-16 years'</td>\n",
       "      <td>b'Parent'</td>\n",
       "      <td>0</td>\n",
       "    </tr>\n",
       "    <tr>\n",
       "      <td>1</td>\n",
       "      <td>0</td>\n",
       "      <td>0</td>\n",
       "      <td>0</td>\n",
       "      <td>0</td>\n",
       "      <td>0</td>\n",
       "      <td>0</td>\n",
       "      <td>0</td>\n",
       "      <td>0</td>\n",
       "      <td>1</td>\n",
       "      <td>1</td>\n",
       "      <td>...</td>\n",
       "      <td>1</td>\n",
       "      <td>b'Black'</td>\n",
       "      <td>0</td>\n",
       "      <td>0</td>\n",
       "      <td>b'Austria'</td>\n",
       "      <td>0</td>\n",
       "      <td>2.0</td>\n",
       "      <td>b'12-16 years'</td>\n",
       "      <td>b'Relative'</td>\n",
       "      <td>0</td>\n",
       "    </tr>\n",
       "    <tr>\n",
       "      <td>2</td>\n",
       "      <td>0</td>\n",
       "      <td>0</td>\n",
       "      <td>0</td>\n",
       "      <td>0</td>\n",
       "      <td>0</td>\n",
       "      <td>0</td>\n",
       "      <td>0</td>\n",
       "      <td>0</td>\n",
       "      <td>1</td>\n",
       "      <td>1</td>\n",
       "      <td>...</td>\n",
       "      <td>0</td>\n",
       "      <td>b'?'</td>\n",
       "      <td>0</td>\n",
       "      <td>0</td>\n",
       "      <td>b'AmericanSamoa'</td>\n",
       "      <td>0</td>\n",
       "      <td>2.0</td>\n",
       "      <td>b'12-16 years'</td>\n",
       "      <td>b'?'</td>\n",
       "      <td>0</td>\n",
       "    </tr>\n",
       "    <tr>\n",
       "      <td>3</td>\n",
       "      <td>0</td>\n",
       "      <td>1</td>\n",
       "      <td>1</td>\n",
       "      <td>1</td>\n",
       "      <td>1</td>\n",
       "      <td>1</td>\n",
       "      <td>0</td>\n",
       "      <td>1</td>\n",
       "      <td>1</td>\n",
       "      <td>0</td>\n",
       "      <td>...</td>\n",
       "      <td>0</td>\n",
       "      <td>b'White-European'</td>\n",
       "      <td>0</td>\n",
       "      <td>0</td>\n",
       "      <td>b'United Kingdom'</td>\n",
       "      <td>0</td>\n",
       "      <td>7.0</td>\n",
       "      <td>b'12-16 years'</td>\n",
       "      <td>b'Self'</td>\n",
       "      <td>1</td>\n",
       "    </tr>\n",
       "    <tr>\n",
       "      <td>4</td>\n",
       "      <td>1</td>\n",
       "      <td>1</td>\n",
       "      <td>1</td>\n",
       "      <td>1</td>\n",
       "      <td>1</td>\n",
       "      <td>1</td>\n",
       "      <td>1</td>\n",
       "      <td>0</td>\n",
       "      <td>0</td>\n",
       "      <td>0</td>\n",
       "      <td>...</td>\n",
       "      <td>0</td>\n",
       "      <td>b'?'</td>\n",
       "      <td>0</td>\n",
       "      <td>0</td>\n",
       "      <td>b'Albania'</td>\n",
       "      <td>0</td>\n",
       "      <td>7.0</td>\n",
       "      <td>b'12-16 years'</td>\n",
       "      <td>b'?'</td>\n",
       "      <td>1</td>\n",
       "    </tr>\n",
       "  </tbody>\n",
       "</table>\n",
       "<p>5 rows × 21 columns</p>\n",
       "</div>"
      ],
      "text/plain": [
       "   A1_Score  A2_Score  A3_Score  A4_Score  A5_Score  A6_Score  A7_Score  \\\n",
       "0         0         0         0         1         1         1         1   \n",
       "1         0         0         0         0         0         0         0   \n",
       "2         0         0         0         0         0         0         0   \n",
       "3         0         1         1         1         1         1         0   \n",
       "4         1         1         1         1         1         1         1   \n",
       "\n",
       "   A8_Score  A9_Score  A10_Score  ...  gender          ethnicity jundice  \\\n",
       "0         1         1          0  ...       1        b'Hispanic'       1   \n",
       "1         0         1          1  ...       1           b'Black'       0   \n",
       "2         0         1          1  ...       0               b'?'       0   \n",
       "3         1         1          0  ...       0  b'White-European'       0   \n",
       "4         0         0          0  ...       0               b'?'       0   \n",
       "\n",
       "   austim      contry_of_res used_app_before  result        age_desc  \\\n",
       "0       1         b'Austria'               0     6.0  b'12-16 years'   \n",
       "1       0         b'Austria'               0     2.0  b'12-16 years'   \n",
       "2       0   b'AmericanSamoa'               0     2.0  b'12-16 years'   \n",
       "3       0  b'United Kingdom'               0     7.0  b'12-16 years'   \n",
       "4       0         b'Albania'               0     7.0  b'12-16 years'   \n",
       "\n",
       "      relation Class/ASD  \n",
       "0    b'Parent'         0  \n",
       "1  b'Relative'         0  \n",
       "2         b'?'         0  \n",
       "3      b'Self'         1  \n",
       "4         b'?'         1  \n",
       "\n",
       "[5 rows x 21 columns]"
      ]
     },
     "execution_count": 4,
     "metadata": {},
     "output_type": "execute_result"
    }
   ],
   "source": [
    "df = df.replace(b'0',0)\n",
    "df = df.replace(b'1',1)\n",
    "df = df.replace(b'm',1)\n",
    "df = df.replace(b'f',0)\n",
    "df = df.replace(b'yes',1)\n",
    "df = df.replace(b'no',0)\n",
    "df = df.replace(b'YES',1)\n",
    "df = df.replace(b'NO',0)\n",
    "df.head()"
   ]
  },
  {
   "cell_type": "code",
   "execution_count": 5,
   "metadata": {},
   "outputs": [
    {
     "data": {
      "text/html": [
       "<div>\n",
       "<style scoped>\n",
       "    .dataframe tbody tr th:only-of-type {\n",
       "        vertical-align: middle;\n",
       "    }\n",
       "\n",
       "    .dataframe tbody tr th {\n",
       "        vertical-align: top;\n",
       "    }\n",
       "\n",
       "    .dataframe thead th {\n",
       "        text-align: right;\n",
       "    }\n",
       "</style>\n",
       "<table border=\"1\" class=\"dataframe\">\n",
       "  <thead>\n",
       "    <tr style=\"text-align: right;\">\n",
       "      <th></th>\n",
       "      <th>count</th>\n",
       "      <th>mean</th>\n",
       "      <th>std</th>\n",
       "      <th>min</th>\n",
       "      <th>25%</th>\n",
       "      <th>50%</th>\n",
       "      <th>75%</th>\n",
       "      <th>max</th>\n",
       "    </tr>\n",
       "  </thead>\n",
       "  <tbody>\n",
       "    <tr>\n",
       "      <td>A1_Score</td>\n",
       "      <td>104.0</td>\n",
       "      <td>0.730769</td>\n",
       "      <td>0.445708</td>\n",
       "      <td>0.0</td>\n",
       "      <td>0.00</td>\n",
       "      <td>1.0</td>\n",
       "      <td>1.0</td>\n",
       "      <td>1.0</td>\n",
       "    </tr>\n",
       "    <tr>\n",
       "      <td>A2_Score</td>\n",
       "      <td>104.0</td>\n",
       "      <td>0.538462</td>\n",
       "      <td>0.500933</td>\n",
       "      <td>0.0</td>\n",
       "      <td>0.00</td>\n",
       "      <td>1.0</td>\n",
       "      <td>1.0</td>\n",
       "      <td>1.0</td>\n",
       "    </tr>\n",
       "    <tr>\n",
       "      <td>A3_Score</td>\n",
       "      <td>104.0</td>\n",
       "      <td>0.653846</td>\n",
       "      <td>0.478047</td>\n",
       "      <td>0.0</td>\n",
       "      <td>0.00</td>\n",
       "      <td>1.0</td>\n",
       "      <td>1.0</td>\n",
       "      <td>1.0</td>\n",
       "    </tr>\n",
       "    <tr>\n",
       "      <td>A4_Score</td>\n",
       "      <td>104.0</td>\n",
       "      <td>0.701923</td>\n",
       "      <td>0.459629</td>\n",
       "      <td>0.0</td>\n",
       "      <td>0.00</td>\n",
       "      <td>1.0</td>\n",
       "      <td>1.0</td>\n",
       "      <td>1.0</td>\n",
       "    </tr>\n",
       "    <tr>\n",
       "      <td>A5_Score</td>\n",
       "      <td>104.0</td>\n",
       "      <td>0.750000</td>\n",
       "      <td>0.435110</td>\n",
       "      <td>0.0</td>\n",
       "      <td>0.75</td>\n",
       "      <td>1.0</td>\n",
       "      <td>1.0</td>\n",
       "      <td>1.0</td>\n",
       "    </tr>\n",
       "    <tr>\n",
       "      <td>A6_Score</td>\n",
       "      <td>104.0</td>\n",
       "      <td>0.769231</td>\n",
       "      <td>0.423365</td>\n",
       "      <td>0.0</td>\n",
       "      <td>1.00</td>\n",
       "      <td>1.0</td>\n",
       "      <td>1.0</td>\n",
       "      <td>1.0</td>\n",
       "    </tr>\n",
       "    <tr>\n",
       "      <td>A7_Score</td>\n",
       "      <td>104.0</td>\n",
       "      <td>0.519231</td>\n",
       "      <td>0.502050</td>\n",
       "      <td>0.0</td>\n",
       "      <td>0.00</td>\n",
       "      <td>1.0</td>\n",
       "      <td>1.0</td>\n",
       "      <td>1.0</td>\n",
       "    </tr>\n",
       "    <tr>\n",
       "      <td>A8_Score</td>\n",
       "      <td>104.0</td>\n",
       "      <td>0.615385</td>\n",
       "      <td>0.488860</td>\n",
       "      <td>0.0</td>\n",
       "      <td>0.00</td>\n",
       "      <td>1.0</td>\n",
       "      <td>1.0</td>\n",
       "      <td>1.0</td>\n",
       "    </tr>\n",
       "    <tr>\n",
       "      <td>A9_Score</td>\n",
       "      <td>104.0</td>\n",
       "      <td>0.788462</td>\n",
       "      <td>0.410377</td>\n",
       "      <td>0.0</td>\n",
       "      <td>1.00</td>\n",
       "      <td>1.0</td>\n",
       "      <td>1.0</td>\n",
       "      <td>1.0</td>\n",
       "    </tr>\n",
       "    <tr>\n",
       "      <td>A10_Score</td>\n",
       "      <td>104.0</td>\n",
       "      <td>0.653846</td>\n",
       "      <td>0.478047</td>\n",
       "      <td>0.0</td>\n",
       "      <td>0.00</td>\n",
       "      <td>1.0</td>\n",
       "      <td>1.0</td>\n",
       "      <td>1.0</td>\n",
       "    </tr>\n",
       "    <tr>\n",
       "      <td>age</td>\n",
       "      <td>104.0</td>\n",
       "      <td>14.134615</td>\n",
       "      <td>1.576882</td>\n",
       "      <td>12.0</td>\n",
       "      <td>13.00</td>\n",
       "      <td>14.0</td>\n",
       "      <td>16.0</td>\n",
       "      <td>16.0</td>\n",
       "    </tr>\n",
       "    <tr>\n",
       "      <td>gender</td>\n",
       "      <td>104.0</td>\n",
       "      <td>0.480769</td>\n",
       "      <td>0.502050</td>\n",
       "      <td>0.0</td>\n",
       "      <td>0.00</td>\n",
       "      <td>0.0</td>\n",
       "      <td>1.0</td>\n",
       "      <td>1.0</td>\n",
       "    </tr>\n",
       "    <tr>\n",
       "      <td>jundice</td>\n",
       "      <td>104.0</td>\n",
       "      <td>0.153846</td>\n",
       "      <td>0.362548</td>\n",
       "      <td>0.0</td>\n",
       "      <td>0.00</td>\n",
       "      <td>0.0</td>\n",
       "      <td>0.0</td>\n",
       "      <td>1.0</td>\n",
       "    </tr>\n",
       "    <tr>\n",
       "      <td>austim</td>\n",
       "      <td>104.0</td>\n",
       "      <td>0.134615</td>\n",
       "      <td>0.342965</td>\n",
       "      <td>0.0</td>\n",
       "      <td>0.00</td>\n",
       "      <td>0.0</td>\n",
       "      <td>0.0</td>\n",
       "      <td>1.0</td>\n",
       "    </tr>\n",
       "    <tr>\n",
       "      <td>used_app_before</td>\n",
       "      <td>104.0</td>\n",
       "      <td>0.038462</td>\n",
       "      <td>0.193239</td>\n",
       "      <td>0.0</td>\n",
       "      <td>0.00</td>\n",
       "      <td>0.0</td>\n",
       "      <td>0.0</td>\n",
       "      <td>1.0</td>\n",
       "    </tr>\n",
       "    <tr>\n",
       "      <td>result</td>\n",
       "      <td>104.0</td>\n",
       "      <td>6.721154</td>\n",
       "      <td>2.200868</td>\n",
       "      <td>1.0</td>\n",
       "      <td>6.00</td>\n",
       "      <td>7.0</td>\n",
       "      <td>8.0</td>\n",
       "      <td>10.0</td>\n",
       "    </tr>\n",
       "    <tr>\n",
       "      <td>Class/ASD</td>\n",
       "      <td>104.0</td>\n",
       "      <td>0.605769</td>\n",
       "      <td>0.491051</td>\n",
       "      <td>0.0</td>\n",
       "      <td>0.00</td>\n",
       "      <td>1.0</td>\n",
       "      <td>1.0</td>\n",
       "      <td>1.0</td>\n",
       "    </tr>\n",
       "  </tbody>\n",
       "</table>\n",
       "</div>"
      ],
      "text/plain": [
       "                 count       mean       std   min    25%   50%   75%   max\n",
       "A1_Score         104.0   0.730769  0.445708   0.0   0.00   1.0   1.0   1.0\n",
       "A2_Score         104.0   0.538462  0.500933   0.0   0.00   1.0   1.0   1.0\n",
       "A3_Score         104.0   0.653846  0.478047   0.0   0.00   1.0   1.0   1.0\n",
       "A4_Score         104.0   0.701923  0.459629   0.0   0.00   1.0   1.0   1.0\n",
       "A5_Score         104.0   0.750000  0.435110   0.0   0.75   1.0   1.0   1.0\n",
       "A6_Score         104.0   0.769231  0.423365   0.0   1.00   1.0   1.0   1.0\n",
       "A7_Score         104.0   0.519231  0.502050   0.0   0.00   1.0   1.0   1.0\n",
       "A8_Score         104.0   0.615385  0.488860   0.0   0.00   1.0   1.0   1.0\n",
       "A9_Score         104.0   0.788462  0.410377   0.0   1.00   1.0   1.0   1.0\n",
       "A10_Score        104.0   0.653846  0.478047   0.0   0.00   1.0   1.0   1.0\n",
       "age              104.0  14.134615  1.576882  12.0  13.00  14.0  16.0  16.0\n",
       "gender           104.0   0.480769  0.502050   0.0   0.00   0.0   1.0   1.0\n",
       "jundice          104.0   0.153846  0.362548   0.0   0.00   0.0   0.0   1.0\n",
       "austim           104.0   0.134615  0.342965   0.0   0.00   0.0   0.0   1.0\n",
       "used_app_before  104.0   0.038462  0.193239   0.0   0.00   0.0   0.0   1.0\n",
       "result           104.0   6.721154  2.200868   1.0   6.00   7.0   8.0  10.0\n",
       "Class/ASD        104.0   0.605769  0.491051   0.0   0.00   1.0   1.0   1.0"
      ]
     },
     "execution_count": 5,
     "metadata": {},
     "output_type": "execute_result"
    }
   ],
   "source": [
    "df.describe().transpose()"
   ]
  },
  {
   "cell_type": "code",
   "execution_count": 6,
   "metadata": {},
   "outputs": [
    {
     "name": "stdout",
     "output_type": "stream",
     "text": [
      "<class 'pandas.core.frame.DataFrame'>\n",
      "RangeIndex: 104 entries, 0 to 103\n",
      "Data columns (total 21 columns):\n",
      "A1_Score           104 non-null int64\n",
      "A2_Score           104 non-null int64\n",
      "A3_Score           104 non-null int64\n",
      "A4_Score           104 non-null int64\n",
      "A5_Score           104 non-null int64\n",
      "A6_Score           104 non-null int64\n",
      "A7_Score           104 non-null int64\n",
      "A8_Score           104 non-null int64\n",
      "A9_Score           104 non-null int64\n",
      "A10_Score          104 non-null int64\n",
      "age                104 non-null float64\n",
      "gender             104 non-null int64\n",
      "ethnicity          104 non-null object\n",
      "jundice            104 non-null int64\n",
      "austim             104 non-null int64\n",
      "contry_of_res      104 non-null object\n",
      "used_app_before    104 non-null int64\n",
      "result             104 non-null float64\n",
      "age_desc           104 non-null object\n",
      "relation           104 non-null object\n",
      "Class/ASD          104 non-null int64\n",
      "dtypes: float64(2), int64(15), object(4)\n",
      "memory usage: 17.2+ KB\n"
     ]
    }
   ],
   "source": [
    "df.info()"
   ]
  },
  {
   "cell_type": "code",
   "execution_count": 7,
   "metadata": {},
   "outputs": [
    {
     "data": {
      "text/plain": [
       "A1_Score           0\n",
       "A2_Score           0\n",
       "A3_Score           0\n",
       "A4_Score           0\n",
       "A5_Score           0\n",
       "A6_Score           0\n",
       "A7_Score           0\n",
       "A8_Score           0\n",
       "A9_Score           0\n",
       "A10_Score          0\n",
       "age                0\n",
       "gender             0\n",
       "ethnicity          0\n",
       "jundice            0\n",
       "austim             0\n",
       "contry_of_res      0\n",
       "used_app_before    0\n",
       "result             0\n",
       "age_desc           0\n",
       "relation           0\n",
       "Class/ASD          0\n",
       "dtype: int64"
      ]
     },
     "execution_count": 7,
     "metadata": {},
     "output_type": "execute_result"
    }
   ],
   "source": [
    "df.isnull().sum()"
   ]
  },
  {
   "cell_type": "code",
   "execution_count": 8,
   "metadata": {},
   "outputs": [
    {
     "data": {
      "text/html": [
       "<div>\n",
       "<style scoped>\n",
       "    .dataframe tbody tr th:only-of-type {\n",
       "        vertical-align: middle;\n",
       "    }\n",
       "\n",
       "    .dataframe tbody tr th {\n",
       "        vertical-align: top;\n",
       "    }\n",
       "\n",
       "    .dataframe thead th {\n",
       "        text-align: right;\n",
       "    }\n",
       "</style>\n",
       "<table border=\"1\" class=\"dataframe\">\n",
       "  <thead>\n",
       "    <tr style=\"text-align: right;\">\n",
       "      <th></th>\n",
       "      <th>A1_Score</th>\n",
       "      <th>A2_Score</th>\n",
       "      <th>A3_Score</th>\n",
       "      <th>A4_Score</th>\n",
       "      <th>A5_Score</th>\n",
       "      <th>A6_Score</th>\n",
       "      <th>A7_Score</th>\n",
       "      <th>A8_Score</th>\n",
       "      <th>A9_Score</th>\n",
       "      <th>A10_Score</th>\n",
       "      <th>age</th>\n",
       "      <th>gender</th>\n",
       "      <th>jundice</th>\n",
       "      <th>austim</th>\n",
       "      <th>used_app_before</th>\n",
       "      <th>result</th>\n",
       "      <th>Class/ASD</th>\n",
       "    </tr>\n",
       "  </thead>\n",
       "  <tbody>\n",
       "    <tr>\n",
       "      <td>0</td>\n",
       "      <td>0</td>\n",
       "      <td>0</td>\n",
       "      <td>0</td>\n",
       "      <td>1</td>\n",
       "      <td>1</td>\n",
       "      <td>1</td>\n",
       "      <td>1</td>\n",
       "      <td>1</td>\n",
       "      <td>1</td>\n",
       "      <td>0</td>\n",
       "      <td>15.0</td>\n",
       "      <td>1</td>\n",
       "      <td>1</td>\n",
       "      <td>1</td>\n",
       "      <td>0</td>\n",
       "      <td>6.0</td>\n",
       "      <td>0</td>\n",
       "    </tr>\n",
       "    <tr>\n",
       "      <td>1</td>\n",
       "      <td>0</td>\n",
       "      <td>0</td>\n",
       "      <td>0</td>\n",
       "      <td>0</td>\n",
       "      <td>0</td>\n",
       "      <td>0</td>\n",
       "      <td>0</td>\n",
       "      <td>0</td>\n",
       "      <td>1</td>\n",
       "      <td>1</td>\n",
       "      <td>15.0</td>\n",
       "      <td>1</td>\n",
       "      <td>0</td>\n",
       "      <td>0</td>\n",
       "      <td>0</td>\n",
       "      <td>2.0</td>\n",
       "      <td>0</td>\n",
       "    </tr>\n",
       "    <tr>\n",
       "      <td>2</td>\n",
       "      <td>0</td>\n",
       "      <td>0</td>\n",
       "      <td>0</td>\n",
       "      <td>0</td>\n",
       "      <td>0</td>\n",
       "      <td>0</td>\n",
       "      <td>0</td>\n",
       "      <td>0</td>\n",
       "      <td>1</td>\n",
       "      <td>1</td>\n",
       "      <td>12.0</td>\n",
       "      <td>0</td>\n",
       "      <td>0</td>\n",
       "      <td>0</td>\n",
       "      <td>0</td>\n",
       "      <td>2.0</td>\n",
       "      <td>0</td>\n",
       "    </tr>\n",
       "    <tr>\n",
       "      <td>3</td>\n",
       "      <td>0</td>\n",
       "      <td>1</td>\n",
       "      <td>1</td>\n",
       "      <td>1</td>\n",
       "      <td>1</td>\n",
       "      <td>1</td>\n",
       "      <td>0</td>\n",
       "      <td>1</td>\n",
       "      <td>1</td>\n",
       "      <td>0</td>\n",
       "      <td>14.0</td>\n",
       "      <td>0</td>\n",
       "      <td>0</td>\n",
       "      <td>0</td>\n",
       "      <td>0</td>\n",
       "      <td>7.0</td>\n",
       "      <td>1</td>\n",
       "    </tr>\n",
       "    <tr>\n",
       "      <td>4</td>\n",
       "      <td>1</td>\n",
       "      <td>1</td>\n",
       "      <td>1</td>\n",
       "      <td>1</td>\n",
       "      <td>1</td>\n",
       "      <td>1</td>\n",
       "      <td>1</td>\n",
       "      <td>0</td>\n",
       "      <td>0</td>\n",
       "      <td>0</td>\n",
       "      <td>16.0</td>\n",
       "      <td>0</td>\n",
       "      <td>0</td>\n",
       "      <td>0</td>\n",
       "      <td>0</td>\n",
       "      <td>7.0</td>\n",
       "      <td>1</td>\n",
       "    </tr>\n",
       "  </tbody>\n",
       "</table>\n",
       "</div>"
      ],
      "text/plain": [
       "   A1_Score  A2_Score  A3_Score  A4_Score  A5_Score  A6_Score  A7_Score  \\\n",
       "0         0         0         0         1         1         1         1   \n",
       "1         0         0         0         0         0         0         0   \n",
       "2         0         0         0         0         0         0         0   \n",
       "3         0         1         1         1         1         1         0   \n",
       "4         1         1         1         1         1         1         1   \n",
       "\n",
       "   A8_Score  A9_Score  A10_Score   age  gender  jundice  austim  \\\n",
       "0         1         1          0  15.0       1        1       1   \n",
       "1         0         1          1  15.0       1        0       0   \n",
       "2         0         1          1  12.0       0        0       0   \n",
       "3         1         1          0  14.0       0        0       0   \n",
       "4         0         0          0  16.0       0        0       0   \n",
       "\n",
       "   used_app_before  result  Class/ASD  \n",
       "0                0     6.0          0  \n",
       "1                0     2.0          0  \n",
       "2                0     2.0          0  \n",
       "3                0     7.0          1  \n",
       "4                0     7.0          1  "
      ]
     },
     "execution_count": 8,
     "metadata": {},
     "output_type": "execute_result"
    }
   ],
   "source": [
    "dft = df.drop(['ethnicity','age_desc','contry_of_res','relation'],axis=1)\n",
    "dft.head()"
   ]
  },
  {
   "cell_type": "code",
   "execution_count": 9,
   "metadata": {},
   "outputs": [
    {
     "data": {
      "text/plain": [
       "Index(['A1_Score', 'A2_Score', 'A3_Score', 'A4_Score', 'A5_Score', 'A6_Score',\n",
       "       'A7_Score', 'A8_Score', 'A9_Score', 'A10_Score', 'age', 'gender',\n",
       "       'jundice', 'austim', 'used_app_before', 'result', 'Class/ASD'],\n",
       "      dtype='object')"
      ]
     },
     "execution_count": 9,
     "metadata": {},
     "output_type": "execute_result"
    }
   ],
   "source": [
    "dft.columns"
   ]
  },
  {
   "cell_type": "code",
   "execution_count": 10,
   "metadata": {},
   "outputs": [],
   "source": [
    "from mlxtend.feature_selection import SequentialFeatureSelector as SFS\n",
    "from sklearn.linear_model import LogisticRegression"
   ]
  },
  {
   "cell_type": "code",
   "execution_count": 11,
   "metadata": {},
   "outputs": [],
   "source": [
    "from sklearn.model_selection import train_test_split"
   ]
  },
  {
   "cell_type": "code",
   "execution_count": 12,
   "metadata": {},
   "outputs": [
    {
     "data": {
      "text/plain": [
       "Index(['A1_Score', 'A2_Score', 'A3_Score', 'A4_Score', 'A5_Score', 'A6_Score',\n",
       "       'A7_Score', 'A8_Score', 'A9_Score', 'A10_Score', 'age', 'gender',\n",
       "       'jundice', 'austim', 'used_app_before', 'result'],\n",
       "      dtype='object')"
      ]
     },
     "execution_count": 12,
     "metadata": {},
     "output_type": "execute_result"
    }
   ],
   "source": [
    "X = dft.drop('Class/ASD',axis=1)\n",
    "y = dft['Class/ASD']\n",
    "X.columns"
   ]
  },
  {
   "cell_type": "code",
   "execution_count": 13,
   "metadata": {},
   "outputs": [
    {
     "data": {
      "text/plain": [
       "('A2_Score', 'A6_Score', 'A10_Score', 'gender', 'used_app_before', 'result')"
      ]
     },
     "execution_count": 13,
     "metadata": {},
     "output_type": "execute_result"
    }
   ],
   "source": [
    "sfs = SFS(LogisticRegression(),k_features=6,forward=True,floating=False,scoring='r2',cv=0)\n",
    "sfs.fit(X,y)\n",
    "sfs.k_feature_names_"
   ]
  },
  {
   "cell_type": "code",
   "execution_count": 14,
   "metadata": {},
   "outputs": [
    {
     "data": {
      "text/plain": [
       "<matplotlib.axes._subplots.AxesSubplot at 0x1b0ccaa9508>"
      ]
     },
     "execution_count": 14,
     "metadata": {},
     "output_type": "execute_result"
    },
    {
     "data": {
      "image/png": "[encoded data removed]",
      "text/plain": [
       "<Figure size 432x288 with 2 Axes>"
      ]
     },
     "metadata": {
      "needs_background": "light"
     },
     "output_type": "display_data"
    }
   ],
   "source": [
    "nn = dft[['A2_Score', 'A6_Score', 'A10_Score','gender', 'used_app_before', 'result','Class/ASD']]\n",
    "sns.heatmap(nn.corr(),annot=True,linewidth=5)"
   ]
  },
  {
   "cell_type": "code",
   "execution_count": 15,
   "metadata": {},
   "outputs": [
    {
     "data": {
      "text/plain": [
       "('A1_Score', 'A5_Score', 'A7_Score', 'age', 'gender', 'result')"
      ]
     },
     "execution_count": 15,
     "metadata": {},
     "output_type": "execute_result"
    }
   ],
   "source": [
    "sfss = SFS(LogisticRegression(),k_features=6,forward=False,floating=False,scoring='r2',cv=0)\n",
    "sfss.fit(X,y)\n",
    "sfss.k_feature_names_"
   ]
  },
  {
   "cell_type": "code",
   "execution_count": 16,
   "metadata": {},
   "outputs": [
    {
     "data": {
      "text/plain": [
       "<matplotlib.axes._subplots.AxesSubplot at 0x1b0cab7be08>"
      ]
     },
     "execution_count": 16,
     "metadata": {},
     "output_type": "execute_result"
    },
    {
     "data": {
      "image/png": "[encoded data removed]",
      "text/plain": [
       "<Figure size 432x288 with 2 Axes>"
      ]
     },
     "metadata": {
      "needs_background": "light"
     },
     "output_type": "display_data"
    }
   ],
   "source": [
    "nn = dft[['A5_Score', 'A7_Score', 'gender', 'A1_Score','age', 'result','Class/ASD']]\n",
    "sns.heatmap(nn.corr(),annot=True,linewidth=5)"
   ]
  },
  {
   "cell_type": "code",
   "execution_count": 17,
   "metadata": {},
   "outputs": [
    {
     "data": {
      "text/plain": [
       "('A1_Score', 'A5_Score', 'A7_Score', 'age', 'gender', 'result')"
      ]
     },
     "execution_count": 17,
     "metadata": {},
     "output_type": "execute_result"
    }
   ],
   "source": [
    "sffs = SFS(LogisticRegression(),k_features=(3,11),forward=True,floating=True,cv=0)\n",
    "sfss.fit(X,y)\n",
    "sfss.k_feature_names_"
   ]
  },
  {
   "cell_type": "code",
   "execution_count": 18,
   "metadata": {},
   "outputs": [
    {
     "data": {
      "image/png": "[encoded data removed]",
      "text/plain": [
       "<Figure size 432x288 with 2 Axes>"
      ]
     },
     "metadata": {
      "needs_background": "light"
     },
     "output_type": "display_data"
    }
   ],
   "source": [
    "ns = dft[['A1_Score', 'A5_Score', 'A7_Score', 'age', 'gender', 'result','Class/ASD']]\n",
    "sns.heatmap(ns.corr(),annot=True,linewidth=5)\n",
    "t = df.corr()"
   ]
  },
  {
   "cell_type": "code",
   "execution_count": 19,
   "metadata": {},
   "outputs": [],
   "source": [
    "X = dft[['A5_Score', 'A9_Score', 'A4_Score', 'A3_Score','A8_Score' ,'A10_Score', 'result']]\n",
    "y = dft['Class/ASD']\n",
    "X_train, X_test, y_train, y_test = train_test_split(X, y, test_size=0.4)"
   ]
  },
  {
   "cell_type": "code",
   "execution_count": 20,
   "metadata": {},
   "outputs": [],
   "source": [
    "from sklearn.preprocessing import StandardScaler\n",
    "\n",
    "sc = StandardScaler()\n",
    "X_train = sc.fit_transform(X_train)\n",
    "X_test = sc.transform(X_test)"
   ]
  },
  {
   "cell_type": "code",
   "execution_count": 21,
   "metadata": {},
   "outputs": [],
   "source": [
    "from sklearn.decomposition import PCA\n",
    "\n",
    "pca = PCA(n_components=1)\n",
    "X_train = pca.fit_transform(X_train)\n",
    "X_test = pca.transform(X_test)"
   ]
  },
  {
   "cell_type": "code",
   "execution_count": 22,
   "metadata": {},
   "outputs": [
    {
     "data": {
      "text/plain": [
       "DecisionTreeClassifier(class_weight=None, criterion='gini', max_depth=None,\n",
       "                       max_features=None, max_leaf_nodes=None,\n",
       "                       min_impurity_decrease=0.0, min_impurity_split=None,\n",
       "                       min_samples_leaf=1, min_samples_split=2,\n",
       "                       min_weight_fraction_leaf=0.0, presort=False,\n",
       "                       random_state=None, splitter='best')"
      ]
     },
     "execution_count": 22,
     "metadata": {},
     "output_type": "execute_result"
    }
   ],
   "source": [
    "from sklearn.tree import DecisionTreeClassifier\n",
    "from sklearn.metrics import mean_absolute_error\n",
    "from sklearn.metrics import mean_squared_error\n",
    "dtree  = DecisionTreeClassifier()\n",
    "dtree.fit(X_train,y_train)"
   ]
  },
  {
   "cell_type": "code",
   "execution_count": 23,
   "metadata": {},
   "outputs": [],
   "source": [
    "predictions = dtree.predict(X_test)"
   ]
  },
  {
   "cell_type": "code",
   "execution_count": 24,
   "metadata": {},
   "outputs": [],
   "source": [
    "from sklearn.metrics import classification_report,confusion_matrix"
   ]
  },
  {
   "cell_type": "code",
   "execution_count": 25,
   "metadata": {},
   "outputs": [
    {
     "name": "stdout",
     "output_type": "stream",
     "text": [
      "[[16  1]\n",
      " [ 0 25]]\n",
      "              precision    recall  f1-score   support\n",
      "\n",
      "           0       1.00      0.94      0.97        17\n",
      "           1       0.96      1.00      0.98        25\n",
      "\n",
      "    accuracy                           0.98        42\n",
      "   macro avg       0.98      0.97      0.98        42\n",
      "weighted avg       0.98      0.98      0.98        42\n",
      "\n",
      "Accuracy = 97.61904761904762\n",
      "Error =  0.023809523809523808\n"
     ]
    }
   ],
   "source": [
    "print(confusion_matrix(y_test,predictions))\n",
    "print(classification_report(y_test,predictions))\n",
    "d_accuracy = dtree.score(X_test, y_test)*100\n",
    "d_error = mean_absolute_error(y_test, predictions)\n",
    "print('Accuracy =',d_accuracy)\n",
    "print('Error = ',d_error)"
   ]
  },
  {
   "cell_type": "code",
   "execution_count": 26,
   "metadata": {},
   "outputs": [
    {
     "data": {
      "text/plain": [
       "RandomForestClassifier(bootstrap=True, class_weight=None, criterion='gini',\n",
       "                       max_depth=None, max_features='auto', max_leaf_nodes=None,\n",
       "                       min_impurity_decrease=0.0, min_impurity_split=None,\n",
       "                       min_samples_leaf=1, min_samples_split=2,\n",
       "                       min_weight_fraction_leaf=0.0, n_estimators=100,\n",
       "                       n_jobs=None, oob_score=False, random_state=None,\n",
       "                       verbose=0, warm_start=False)"
      ]
     },
     "execution_count": 26,
     "metadata": {},
     "output_type": "execute_result"
    }
   ],
   "source": [
    "from sklearn.ensemble import RandomForestClassifier\n",
    "rfc = RandomForestClassifier(n_estimators=100)\n",
    "rfc.fit(X_train,y_train)"
   ]
  },
  {
   "cell_type": "code",
   "execution_count": 27,
   "metadata": {},
   "outputs": [],
   "source": [
    "rfc_pred = rfc.predict(X_test)"
   ]
  },
  {
   "cell_type": "code",
   "execution_count": 28,
   "metadata": {},
   "outputs": [
    {
     "name": "stdout",
     "output_type": "stream",
     "text": [
      "[[16  1]\n",
      " [ 0 25]]\n",
      "              precision    recall  f1-score   support\n",
      "\n",
      "           0       1.00      0.94      0.97        17\n",
      "           1       0.96      1.00      0.98        25\n",
      "\n",
      "    accuracy                           0.98        42\n",
      "   macro avg       0.98      0.97      0.98        42\n",
      "weighted avg       0.98      0.98      0.98        42\n",
      "\n",
      "Accuracy = 97.61904761904762\n",
      "Error =  0.023809523809523808\n"
     ]
    }
   ],
   "source": [
    "print(confusion_matrix(y_test,rfc_pred))\n",
    "print(classification_report(y_test,rfc_pred))\n",
    "r_accuracy = rfc.score(X_test, y_test)*100\n",
    "r_error = mean_absolute_error(y_test, rfc_pred)\n",
    "print('Accuracy =',r_accuracy)\n",
    "print('Error = ',r_error)"
   ]
  },
  {
   "cell_type": "code",
   "execution_count": 29,
   "metadata": {},
   "outputs": [
    {
     "data": {
      "text/html": [
       "<div>\n",
       "<style scoped>\n",
       "    .dataframe tbody tr th:only-of-type {\n",
       "        vertical-align: middle;\n",
       "    }\n",
       "\n",
       "    .dataframe tbody tr th {\n",
       "        vertical-align: top;\n",
       "    }\n",
       "\n",
       "    .dataframe thead th {\n",
       "        text-align: right;\n",
       "    }\n",
       "</style>\n",
       "<table border=\"1\" class=\"dataframe\">\n",
       "  <thead>\n",
       "    <tr style=\"text-align: right;\">\n",
       "      <th>Predicted Result</th>\n",
       "      <th>0</th>\n",
       "      <th>1</th>\n",
       "    </tr>\n",
       "    <tr>\n",
       "      <th>Actual Result</th>\n",
       "      <th></th>\n",
       "      <th></th>\n",
       "    </tr>\n",
       "  </thead>\n",
       "  <tbody>\n",
       "    <tr>\n",
       "      <td>0</td>\n",
       "      <td>16</td>\n",
       "      <td>1</td>\n",
       "    </tr>\n",
       "    <tr>\n",
       "      <td>1</td>\n",
       "      <td>0</td>\n",
       "      <td>25</td>\n",
       "    </tr>\n",
       "  </tbody>\n",
       "</table>\n",
       "</div>"
      ],
      "text/plain": [
       "Predicted Result   0   1\n",
       "Actual Result           \n",
       "0                 16   1\n",
       "1                  0  25"
      ]
     },
     "execution_count": 29,
     "metadata": {},
     "output_type": "execute_result"
    }
   ],
   "source": [
    "pd.crosstab(y_test,rfc_pred, rownames=['Actual Result'], colnames=['Predicted Result'])"
   ]
  },
  {
   "cell_type": "code",
   "execution_count": 30,
   "metadata": {},
   "outputs": [
    {
     "data": {
      "text/plain": [
       "LogisticRegression(C=1.0, class_weight=None, dual=False, fit_intercept=True,\n",
       "                   intercept_scaling=1, l1_ratio=None, max_iter=100,\n",
       "                   multi_class='warn', n_jobs=None, penalty='l2',\n",
       "                   random_state=None, solver='warn', tol=0.0001, verbose=0,\n",
       "                   warm_start=False)"
      ]
     },
     "execution_count": 30,
     "metadata": {},
     "output_type": "execute_result"
    }
   ],
   "source": [
    "from sklearn.linear_model import LogisticRegression\n",
    "lr = LogisticRegression()\n",
    "lr.fit(X_train, y_train)"
   ]
  },
  {
   "cell_type": "code",
   "execution_count": 31,
   "metadata": {},
   "outputs": [],
   "source": [
    "lr_pred = lr.predict(X_test)"
   ]
  },
  {
   "cell_type": "code",
   "execution_count": 32,
   "metadata": {},
   "outputs": [
    {
     "name": "stdout",
     "output_type": "stream",
     "text": [
      "[[15  2]\n",
      " [ 0 25]]\n",
      "              precision    recall  f1-score   support\n",
      "\n",
      "           0       1.00      0.88      0.94        17\n",
      "           1       0.93      1.00      0.96        25\n",
      "\n",
      "    accuracy                           0.95        42\n",
      "   macro avg       0.96      0.94      0.95        42\n",
      "weighted avg       0.96      0.95      0.95        42\n",
      "\n",
      "Accuracy = 95.23809523809523\n",
      "Error =  0.047619047619047616\n"
     ]
    }
   ],
   "source": [
    "print(confusion_matrix(y_test,lr_pred))\n",
    "print(classification_report(y_test,lr_pred))\n",
    "lr_accuracy = lr.score(X_test, y_test)*100\n",
    "lr_error = mean_absolute_error(y_test, lr_pred)\n",
    "print('Accuracy =',lr_accuracy)\n",
    "print('Error = ',lr_error)"
   ]
  },
  {
   "cell_type": "code",
   "execution_count": 33,
   "metadata": {},
   "outputs": [
    {
     "data": {
      "text/plain": [
       "SVC(C=1.0, cache_size=200, class_weight=None, coef0=0.0,\n",
       "    decision_function_shape='ovr', degree=3, gamma='auto_deprecated',\n",
       "    kernel='linear', max_iter=-1, probability=False, random_state=None,\n",
       "    shrinking=True, tol=0.001, verbose=False)"
      ]
     },
     "execution_count": 33,
     "metadata": {},
     "output_type": "execute_result"
    }
   ],
   "source": [
    "from sklearn.svm import SVC\n",
    "from sklearn.metrics import mean_absolute_error\n",
    "svc = SVC(kernel='linear')\n",
    "svc.fit(X_train,y_train)"
   ]
  },
  {
   "cell_type": "code",
   "execution_count": 34,
   "metadata": {},
   "outputs": [
    {
     "name": "stdout",
     "output_type": "stream",
     "text": [
      "[[14  3]\n",
      " [ 0 25]]\n",
      "              precision    recall  f1-score   support\n",
      "\n",
      "           0       1.00      0.82      0.90        17\n",
      "           1       0.89      1.00      0.94        25\n",
      "\n",
      "    accuracy                           0.93        42\n",
      "   macro avg       0.95      0.91      0.92        42\n",
      "weighted avg       0.94      0.93      0.93        42\n",
      "\n",
      "Accuracy = 92.85714285714286\n",
      "Error =  0.07142857142857142\n"
     ]
    }
   ],
   "source": [
    "s_pred = svc.predict(X_test)\n",
    "print(confusion_matrix(y_test,s_pred))\n",
    "print(classification_report(y_test,s_pred))\n",
    "s_accuracy = svc.score(X_test, y_test)*100\n",
    "s_error = mean_absolute_error(y_test, s_pred)\n",
    "print('Accuracy =',s_accuracy)\n",
    "print('Error = ',s_error)"
   ]
  },
  {
   "cell_type": "code",
   "execution_count": 35,
   "metadata": {},
   "outputs": [
    {
     "data": {
      "text/plain": [
       "KNeighborsClassifier(algorithm='auto', leaf_size=30, metric='minkowski',\n",
       "                     metric_params=None, n_jobs=None, n_neighbors=2, p=2,\n",
       "                     weights='uniform')"
      ]
     },
     "execution_count": 35,
     "metadata": {},
     "output_type": "execute_result"
    }
   ],
   "source": [
    "from sklearn.neighbors import KNeighborsClassifier\n",
    "knn = KNeighborsClassifier(2)\n",
    "knn.fit(X_train,y_train)"
   ]
  },
  {
   "cell_type": "code",
   "execution_count": 36,
   "metadata": {},
   "outputs": [
    {
     "name": "stdout",
     "output_type": "stream",
     "text": [
      "[[16  1]\n",
      " [ 1 24]]\n",
      "              precision    recall  f1-score   support\n",
      "\n",
      "           0       0.94      0.94      0.94        17\n",
      "           1       0.96      0.96      0.96        25\n",
      "\n",
      "    accuracy                           0.95        42\n",
      "   macro avg       0.95      0.95      0.95        42\n",
      "weighted avg       0.95      0.95      0.95        42\n",
      "\n",
      "Accuracy = 95.23809523809523\n",
      "Error =  0.047619047619047616\n"
     ]
    }
   ],
   "source": [
    "knn_pred = knn.predict(X_test)\n",
    "print(confusion_matrix(y_test,knn_pred))\n",
    "print(classification_report(y_test,knn_pred))\n",
    "kn_accuracy = knn.score(X_test, y_test)*100\n",
    "kn_error = mean_absolute_error(y_test, knn_pred)\n",
    "print('Accuracy =',kn_accuracy)\n",
    "print('Error = ',kn_error)"
   ]
  },
  {
   "cell_type": "code",
   "execution_count": 37,
   "metadata": {},
   "outputs": [
    {
     "data": {
      "text/plain": [
       "[(array([-1.1503866]), 1.0)]"
      ]
     },
     "execution_count": 37,
     "metadata": {},
     "output_type": "execute_result"
    }
   ],
   "source": [
    "list(zip(X_train, rfc.feature_importances_))"
   ]
  },
  {
   "cell_type": "code",
   "execution_count": 38,
   "metadata": {},
   "outputs": [
    {
     "name": "stdout",
     "output_type": "stream",
     "text": [
      "Actual value: 0.000 Predicted Value: 0.000\n",
      "Actual value: 0.000 Predicted Value: 0.000\n",
      "Actual value: 0.000 Predicted Value: 0.000\n",
      "Actual value: 1.000 Predicted Value: 1.000\n",
      "Actual value: 0.000 Predicted Value: 0.000\n",
      "Actual value: 1.000 Predicted Value: 1.000\n",
      "Actual value: 1.000 Predicted Value: 1.000\n",
      "Actual value: 1.000 Predicted Value: 1.000\n",
      "Actual value: 0.000 Predicted Value: 0.000\n",
      "Actual value: 0.000 Predicted Value: 0.000\n"
     ]
    }
   ],
   "source": [
    "y_pred = rfc.predict(X_test)\n",
    "for i in range(10):\n",
    "    print('Actual value: {:.3f} Predicted Value: {:.3f}'.format(y_test.values[i],y_pred[i]))"
   ]
  },
  {
   "cell_type": "code",
   "execution_count": 39,
   "metadata": {},
   "outputs": [
    {
     "data": {
      "text/html": [
       "<div>\n",
       "<style scoped>\n",
       "    .dataframe tbody tr th:only-of-type {\n",
       "        vertical-align: middle;\n",
       "    }\n",
       "\n",
       "    .dataframe tbody tr th {\n",
       "        vertical-align: top;\n",
       "    }\n",
       "\n",
       "    .dataframe thead th {\n",
       "        text-align: right;\n",
       "    }\n",
       "</style>\n",
       "<table border=\"1\" class=\"dataframe\">\n",
       "  <thead>\n",
       "    <tr style=\"text-align: right;\">\n",
       "      <th></th>\n",
       "      <th>Model_Name</th>\n",
       "      <th>Accuracy</th>\n",
       "      <th>Error</th>\n",
       "    </tr>\n",
       "  </thead>\n",
       "  <tbody>\n",
       "    <tr>\n",
       "      <td>0</td>\n",
       "      <td>Logistic_Regression</td>\n",
       "      <td>95.238095</td>\n",
       "      <td>0.047619</td>\n",
       "    </tr>\n",
       "    <tr>\n",
       "      <td>1</td>\n",
       "      <td>Decision_Tree</td>\n",
       "      <td>97.619048</td>\n",
       "      <td>0.023810</td>\n",
       "    </tr>\n",
       "    <tr>\n",
       "      <td>2</td>\n",
       "      <td>Random_forest_classifier</td>\n",
       "      <td>97.619048</td>\n",
       "      <td>0.023810</td>\n",
       "    </tr>\n",
       "    <tr>\n",
       "      <td>3</td>\n",
       "      <td>KNN</td>\n",
       "      <td>95.238095</td>\n",
       "      <td>0.047619</td>\n",
       "    </tr>\n",
       "    <tr>\n",
       "      <td>4</td>\n",
       "      <td>SVM</td>\n",
       "      <td>92.857143</td>\n",
       "      <td>0.071429</td>\n",
       "    </tr>\n",
       "  </tbody>\n",
       "</table>\n",
       "</div>"
      ],
      "text/plain": [
       "                 Model_Name   Accuracy     Error\n",
       "0       Logistic_Regression  95.238095  0.047619\n",
       "1             Decision_Tree  97.619048  0.023810\n",
       "2  Random_forest_classifier  97.619048  0.023810\n",
       "3                       KNN  95.238095  0.047619\n",
       "4                       SVM  92.857143  0.071429"
      ]
     },
     "execution_count": 39,
     "metadata": {},
     "output_type": "execute_result"
    }
   ],
   "source": [
    "report = {'Model_Name':['Logistic_Regression','Decision_Tree','Random_forest_classifier','KNN','SVM'],\n",
    "         'Accuracy':[lr_accuracy,d_accuracy,r_accuracy,kn_accuracy,s_accuracy],\n",
    "         'Error':[lr_error,d_error,r_error,kn_error,s_error]}\n",
    "performance_report = pd.DataFrame(report)\n",
    "performance_report"
   ]
  },
  {
   "cell_type": "code",
   "execution_count": null,
   "metadata": {},
   "outputs": [],
   "source": []
  }
 ],
 "metadata": {
  "kernelspec": {
   "display_name": "Python 3",
   "language": "python",
   "name": "python3"
  },
  "language_info": {
   "codemirror_mode": {
    "name": "ipython",
    "version": 3
   },
   "file_extension": ".py",
   "mimetype": "text/x-python",
   "name": "python",
   "nbconvert_exporter": "python",
   "pygments_lexer": "ipython3",
   "version": "3.7.4"
  }
 },
 "nbformat": 4,
 "nbformat_minor": 2
}
